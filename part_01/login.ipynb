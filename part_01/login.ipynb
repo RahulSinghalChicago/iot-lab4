{
 "cells": [
  {
   "cell_type": "code",
   "execution_count": 1,
   "metadata": {},
   "outputs": [],
   "source": [
    "import boto3\n",
    "import json\n",
    "from pathlib import Path"
   ]
  },
  {
   "attachments": {},
   "cell_type": "markdown",
   "metadata": {},
   "source": [
    "## Class"
   ]
  },
  {
   "cell_type": "code",
   "execution_count": 2,
   "metadata": {},
   "outputs": [],
   "source": [
    "class IotThing():\n",
    "    def __init__(self, thing_name:str, key_path:Path, default_policy:str, default_group:str, profile_name='default', verbose=True):\n",
    "        self.thing_name = thing_name\n",
    "        self.key_path = key_path\n",
    "        self.default_policy = default_policy\n",
    "        self.default_group = default_group\n",
    "        if not isinstance(self.key_path, Path):\n",
    "            print(f\"Keypath must be type Path, but is type: {type(self.key_path)}\")\n",
    "            print(f\"Trying to convert to Path\")\n",
    "            try:\n",
    "                self.key_path = Path(self.key_path)\n",
    "                print(f\"Converted to Path\")\n",
    "            except:\n",
    "                print(f\"Could not convert to Path\")\n",
    "                raise TypeError(f\"Keypath must be type Path, but is type: {type(self.key_path)}\")\n",
    "        self.thingArn = ''\n",
    "        self.thingId = ''\n",
    "        self.certificateArn = ''\n",
    "        self.certificateId = ''\n",
    "        self.session = boto3.setup_default_session(profile_name=profile_name)\n",
    "        self.thing_client = boto3.client('iot')\n",
    "        self.create_thing()\n",
    "        self.create_keys_and_certificate()\n",
    "        self.attach_policy()\n",
    "        self.attach_thing_principal()\n",
    "        self.attach_thing_to_group()\n",
    "        self.close()\n",
    "        if verbose:\n",
    "            print(f\"{self.thing_name} created.\")\n",
    "        \n",
    "    def close(self):\n",
    "        self.thing_client.close()\n",
    "        \n",
    "    def attach_client(self):\n",
    "        self.thing_client = boto3.client('iot')\n",
    "        \n",
    "    def create_thing(self):\n",
    "        thingResponse = self.thing_client.create_thing(thingName=self.thing_name)\n",
    "        data = json.loads(json.dumps(thingResponse, sort_keys=False, indent=4))\n",
    "        for element in data: \n",
    "            if element == 'thingArn':\n",
    "                self.thingArn = data['thingArn']\n",
    "            elif element == 'thingId':\n",
    "                self.thingId = data['thingId']\n",
    "                \n",
    "    def list_things(self):\n",
    "        return self.thing_client.list_things()\n",
    "    \n",
    "    def create_keys_and_certificate(self):\n",
    "        certResponse = self.thing_client.create_keys_and_certificate(setAsActive=True)\n",
    "        data = json.loads(json.dumps(certResponse, sort_keys=False, indent=4))\n",
    "        # Create folder for keys and certificates\n",
    "        (self.key_path/self.thing_name).mkdir(parents=True, exist_ok=False)\n",
    "        for element in data: \n",
    "            if element == 'certificateArn':\n",
    "                self.certificateArn = data['certificateArn']\n",
    "            elif element == 'keyPair':\n",
    "                PublicKey = data['keyPair']['PublicKey']\n",
    "                PrivateKey = data['keyPair']['PrivateKey']\n",
    "            elif element == 'certificatePem':\n",
    "                certificatePem = data['certificatePem']\n",
    "            elif element == 'certificateId':\n",
    "                self.certificateId = data['certificateId']\n",
    "                \t\t\t\t\t\n",
    "        with open(self.key_path/self.thing_name/f'{self.thing_name}-public.key', 'w') as outfile:\n",
    "                outfile.write(PublicKey)\n",
    "        with open(self.key_path/self.thing_name/f'{self.thing_name}-private.key', 'w') as outfile:\n",
    "                outfile.write(PrivateKey)\n",
    "        with open(self.key_path/self.thing_name/f'{self.thing_name}-cert.pem', 'w') as outfile:\n",
    "                outfile.write(certificatePem)\n",
    "                \n",
    "    def attach_policy(self):\n",
    "        self.thing_client.attach_policy(\n",
    "            policyName = self.default_policy,\n",
    "            target = self.certificateArn\n",
    "        )\n",
    "        \n",
    "    def attach_thing_principal(self):\n",
    "        self.thing_client.attach_thing_principal(\n",
    "            thingName = self.thing_name,\n",
    "            principal = self.certificateArn\n",
    "        )\n",
    "        \n",
    "    def attach_thing_to_group(self):\n",
    "        self.thing_client.add_thing_to_thing_group(\n",
    "            thingGroupName = self.default_group,\n",
    "            thingGroupArn = self.get_group_arn(),\n",
    "            thingName = self.thing_name,\n",
    "            thingArn = self.thingArn\n",
    "        )\n",
    "        \n",
    "    def get_group_arn(self):\n",
    "        group_list = self.thing_client.list_thing_groups()\n",
    "        group_arn = ''\n",
    "        group_not_found = True\n",
    "        data = json.loads(json.dumps(group_list, sort_keys=False, indent=4))\n",
    "        for element in data:\n",
    "            if element == 'thingGroups':\n",
    "                for group in group_list['thingGroups']:\n",
    "                    if group['groupName'] == self.default_group:\n",
    "                        group_not_found = False\n",
    "                        group_arn = group['groupArn']\n",
    "        if group_not_found:\n",
    "            print(f\"Group {self.default_group} not found\")\n",
    "        return group_arn\n",
    "    \n",
    "    def close(self):\n",
    "        self.thing_client.close()\n",
    "    \n",
    "    # destructor IotThing\n",
    "    def __del__(self):\n",
    "        try:\n",
    "            print(f\"Deleting thing {self.thing_name}\")\n",
    "            self.thing_client.detach_thing_principal(\n",
    "                thingName = self.thing_name,\n",
    "                principal = self.certificateArn\n",
    "            )\n",
    "            self.thing_client.detach_policy(\n",
    "                policyName = self.default_policy,\n",
    "                target = self.certificateArn\n",
    "            )\n",
    "            self.thing_client.update_certificate(\n",
    "                certificateId = self.certificateId, \n",
    "                newStatus='INACTIVE'\n",
    "            )\n",
    "            self.thing_client.delete_certificate(\n",
    "                certificateId = self.certificateId,\n",
    "                forceDelete = True\n",
    "            )\n",
    "            self.thing_client.remove_thing_from_thing_group(\n",
    "                thingGroupName = self.default_group,\n",
    "                thingGroupArn = self.get_group_arn(),\n",
    "                thingName = self.thing_name,\n",
    "                thingArn = self.thingArn\n",
    "            )\n",
    "            self.thing_client.delete_thing(\n",
    "                thingName = self.thing_name\n",
    "            )\n",
    "        except Exception as e:\n",
    "            print(e)\n",
    "        self.close()\n",
    "        # delete folder with keys and certificates\n",
    "        [fn.unlink(missing_ok=True) for fn in list((self.key_path/self.thing_name).iterdir())]\n",
    "        (self.key_path/self.thing_name).rmdir()"
   ]
  },
  {
   "attachments": {},
   "cell_type": "markdown",
   "metadata": {},
   "source": [
    "## Create Things"
   ]
  },
  {
   "cell_type": "code",
   "execution_count": 3,
   "metadata": {},
   "outputs": [],
   "source": [
    "i = 0\n",
    "n_things = 5\n",
    "thing_name = 'car-iot-thing'\n",
    "thing_group = 'Car_Group' #'The_Coolest_Things' #'auto-iot-group'\n",
    "thing_policy = 'p_Car_Group' #'p_Test_Thing' #'auto-iot-policy'\n",
    "key_path = Path('/media/netzdose/constantin/Uni/UIllinois/courses/CS437_IoT/labs/lab_04/certificates/')"
   ]
  },
  {
   "cell_type": "code",
   "execution_count": 4,
   "metadata": {},
   "outputs": [
    {
     "name": "stdout",
     "output_type": "stream",
     "text": [
      "car-iot-thing_0000 created.\n",
      "car-iot-thing_0001 created.\n",
      "car-iot-thing_0002 created.\n",
      "car-iot-thing_0003 created.\n",
      "car-iot-thing_0004 created.\n"
     ]
    }
   ],
   "source": [
    "### Create things\n",
    "l_iot_things = []\n",
    "for i in range(n_things):\n",
    "    l_iot_things.append(\n",
    "        IotThing(f\"{thing_name}_{i:04d}\",\n",
    "                        key_path=key_path,\n",
    "                        default_policy=thing_policy,\n",
    "                        default_group=thing_group, \n",
    "                        )\n",
    "    )\n"
   ]
  },
  {
   "cell_type": "code",
   "execution_count": 5,
   "metadata": {},
   "outputs": [
    {
     "name": "stdout",
     "output_type": "stream",
     "text": [
      "Deleting thing car-iot-thing_0000\n",
      "Deleting thing car-iot-thing_0001\n",
      "Deleting thing car-iot-thing_0002\n",
      "Deleting thing car-iot-thing_0003\n",
      "Deleting thing car-iot-thing_0004\n"
     ]
    },
    {
     "name": "stderr",
     "output_type": "stream",
     "text": [
      "Exception ignored in: <function IotThing.__del__ at 0x7f384e240790>\n",
      "Traceback (most recent call last):\n",
      "  File \"/tmp/ipykernel_74937/1938956604.py\", line 143, in __del__\n",
      "  File \"/media/sda/miniconda3/envs/sci-vis/lib/python3.10/pathlib.py\", line 1015, in iterdir\n",
      "    for name in self._accessor.listdir(self):\n",
      "FileNotFoundError: [Errno 2] No such file or directory: '/media/netzdose/constantin/Uni/UIllinois/courses/CS437_IoT/labs/lab_04/certificates/car-iot-thing_0003'\n"
     ]
    },
    {
     "name": "stdout",
     "output_type": "stream",
     "text": [
      "Deleting thing car-iot-thing_0003\n",
      "An error occurred (ResourceNotFoundException) when calling the DetachThingPrincipal operation: Can't detach the principal arn:aws:iot:eu-central-1:524422720739:cert/f42fc66d1694c8b54c9b9be4af4e59326a6ae7df8e63bc083fd7c3b953bb4e35 from thing car-iot-thing_0003 because the principal does not exist in your account\n",
      "Deleting thing car-iot-thing_0002\n"
     ]
    },
    {
     "name": "stderr",
     "output_type": "stream",
     "text": [
      "Exception ignored in: <function IotThing.__del__ at 0x7f384e240790>\n",
      "Traceback (most recent call last):\n",
      "  File \"/tmp/ipykernel_74937/1938956604.py\", line 143, in __del__\n",
      "  File \"/media/sda/miniconda3/envs/sci-vis/lib/python3.10/pathlib.py\", line 1015, in iterdir\n",
      "    for name in self._accessor.listdir(self):\n",
      "FileNotFoundError: [Errno 2] No such file or directory: '/media/netzdose/constantin/Uni/UIllinois/courses/CS437_IoT/labs/lab_04/certificates/car-iot-thing_0002'\n",
      "Exception ignored in: <function IotThing.__del__ at 0x7f384e240790>\n",
      "Traceback (most recent call last):\n",
      "  File \"/tmp/ipykernel_74937/1938956604.py\", line 143, in __del__\n",
      "  File \"/media/sda/miniconda3/envs/sci-vis/lib/python3.10/pathlib.py\", line 1015, in iterdir\n",
      "    for name in self._accessor.listdir(self):\n",
      "FileNotFoundError: [Errno 2] No such file or directory: '/media/netzdose/constantin/Uni/UIllinois/courses/CS437_IoT/labs/lab_04/certificates/car-iot-thing_0001'\n"
     ]
    },
    {
     "name": "stdout",
     "output_type": "stream",
     "text": [
      "An error occurred (ResourceNotFoundException) when calling the DetachThingPrincipal operation: Can't detach the principal arn:aws:iot:eu-central-1:524422720739:cert/be50930e2481021ebc7505ecfe96f0e45d85407b0bb05e4fb99e144d0bdbe3b0 from thing car-iot-thing_0002 because the principal does not exist in your account\n",
      "Deleting thing car-iot-thing_0001\n",
      "An error occurred (ResourceNotFoundException) when calling the DetachThingPrincipal operation: Can't detach the principal arn:aws:iot:eu-central-1:524422720739:cert/d62acbbc6f92e87e6e92f1fda1ac4a85baf9c95cb5927aa2ee0fbf470fdb3735 from thing car-iot-thing_0001 because the principal does not exist in your account\n",
      "Deleting thing car-iot-thing_0000\n"
     ]
    },
    {
     "name": "stderr",
     "output_type": "stream",
     "text": [
      "Exception ignored in: <function IotThing.__del__ at 0x7f384e240790>\n",
      "Traceback (most recent call last):\n",
      "  File \"/tmp/ipykernel_74937/1938956604.py\", line 143, in __del__\n",
      "  File \"/media/sda/miniconda3/envs/sci-vis/lib/python3.10/pathlib.py\", line 1015, in iterdir\n",
      "    for name in self._accessor.listdir(self):\n",
      "FileNotFoundError: [Errno 2] No such file or directory: '/media/netzdose/constantin/Uni/UIllinois/courses/CS437_IoT/labs/lab_04/certificates/car-iot-thing_0000'\n"
     ]
    },
    {
     "name": "stdout",
     "output_type": "stream",
     "text": [
      "An error occurred (ResourceNotFoundException) when calling the DetachThingPrincipal operation: Can't detach the principal arn:aws:iot:eu-central-1:524422720739:cert/265c5022f662175446b7816508abe02c8e2f1b355ce342a2c5f30b4a807c1844 from thing car-iot-thing_0000 because the principal does not exist in your account\n"
     ]
    }
   ],
   "source": [
    "### Delete Things\n",
    "for thing in l_iot_things:\n",
    "    thing.__del__()\n",
    "del l_iot_things"
   ]
  },
  {
   "attachments": {},
   "cell_type": "markdown",
   "metadata": {},
   "source": [
    "## Unit Tests"
   ]
  },
  {
   "cell_type": "code",
   "execution_count": 64,
   "metadata": {},
   "outputs": [
    {
     "name": "stderr",
     "output_type": "stream",
     "text": [
      "Exception ignored in: <function IotThing.__del__ at 0x7f2335acacb0>\n",
      "Traceback (most recent call last):\n",
      "  File \"/tmp/ipykernel_10223/507940076.py\", line 118, in __del__\n",
      "  File \"/media/sda/miniconda3/envs/sci-vis/lib/python3.10/site-packages/botocore/client.py\", line 530, in _api_call\n",
      "    return self._make_api_call(operation_name, kwargs)\n",
      "  File \"/media/sda/miniconda3/envs/sci-vis/lib/python3.10/site-packages/botocore/client.py\", line 960, in _make_api_call\n",
      "    raise error_class(parsed_response, operation_name)\n",
      "botocore.errorfactory.CertificateStateException: An error occurred (CertificateStateException) when calling the DeleteCertificate operation: Certificate must be deactivated (not ACTIVE) before deletion. Id: 07a829290cf10beb1c1225f42417c117684c44f1cfb932c04d45dee9b50c33ff\n"
     ]
    },
    {
     "name": "stdout",
     "output_type": "stream",
     "text": [
      "Deleting thing auto-iot-thing_0010\n"
     ]
    }
   ],
   "source": [
    "# Unit tests for IotThing class\n",
    "\n",
    "thing_name = 'auto-iot-thing'\n",
    "thing_group = 'The_Coolest_Things' #'auto-iot-group'\n",
    "thing_policy = 'p_Test_Thing' #'auto-iot-policy'\n",
    "key_path = Path('/media/netzdose/constantin/Uni/UIllinois/courses/CS437_IoT/labs/lab_04/certificates/')\n",
    "\n",
    "# Test 1: Create a thing\n",
    "i = 10\n",
    "new_thing = IotThing(f\"{thing_name}_{i:04d}\",\n",
    "         key_path=key_path,\n",
    "         default_policy=thing_policy,\n",
    "         default_group=thing_group,         \n",
    "         )\n",
    "assert isinstance(new_thing, IotThing)\n",
    "del new_thing\n",
    "\n",
    "# Test 1.5: Delete a thing\n",
    "del new_thing\n",
    "\n",
    "# Test 2: Create a thing with a name that already exists\n",
    "\n",
    "# Test 3: Create a thing and could not find group\n",
    "\n",
    "# Test 4: Create a thing and key path already exists"
   ]
  },
  {
   "attachments": {},
   "cell_type": "markdown",
   "metadata": {},
   "source": [
    "## Misc"
   ]
  },
  {
   "attachments": {},
   "cell_type": "markdown",
   "metadata": {},
   "source": [
    "### Inactivate Certificate"
   ]
  },
  {
   "cell_type": "code",
   "execution_count": 95,
   "metadata": {},
   "outputs": [
    {
     "ename": "NameError",
     "evalue": "name 'iot_thing' is not defined",
     "output_type": "error",
     "traceback": [
      "\u001b[0;31m---------------------------------------------------------------------------\u001b[0m",
      "\u001b[0;31mNameError\u001b[0m                                 Traceback (most recent call last)",
      "\u001b[1;32m/media/netzdose/constantin/Uni/UIllinois/courses/CS437_IoT/labs/lab_04/aws/login.ipynb Cell 16\u001b[0m in \u001b[0;36m1\n\u001b[0;32m----> <a href='vscode-notebook-cell:/media/netzdose/constantin/Uni/UIllinois/courses/CS437_IoT/labs/lab_04/aws/login.ipynb#X61sZmlsZQ%3D%3D?line=0'>1</a>\u001b[0m iot_thing\u001b[39m.\u001b[39mthing_client\u001b[39m.\u001b[39mupdate_certificate(certificateId\u001b[39m=\u001b[39m\u001b[39m'\u001b[39m\u001b[39mecb75cf3a4c2113f62638c0980441a240be5f060b797a17e28c7797dd5a72b05\u001b[39m\u001b[39m'\u001b[39m, \n\u001b[1;32m      <a href='vscode-notebook-cell:/media/netzdose/constantin/Uni/UIllinois/courses/CS437_IoT/labs/lab_04/aws/login.ipynb#X61sZmlsZQ%3D%3D?line=1'>2</a>\u001b[0m                                           newStatus\u001b[39m=\u001b[39m\u001b[39m'\u001b[39m\u001b[39mINACTIVE\u001b[39m\u001b[39m'\u001b[39m\n\u001b[1;32m      <a href='vscode-notebook-cell:/media/netzdose/constantin/Uni/UIllinois/courses/CS437_IoT/labs/lab_04/aws/login.ipynb#X61sZmlsZQ%3D%3D?line=2'>3</a>\u001b[0m                                           )\n",
      "\u001b[0;31mNameError\u001b[0m: name 'iot_thing' is not defined"
     ]
    }
   ],
   "source": [
    "iot_thing.thing_client.update_certificate(certificateId='ecb75cf3a4c2113f62638c0980441a240be5f060b797a17e28c7797dd5a72b05', \n",
    "                                          newStatus='INACTIVE'\n",
    "                                          )"
   ]
  },
  {
   "cell_type": "code",
   "execution_count": null,
   "metadata": {},
   "outputs": [],
   "source": []
  },
  {
   "attachments": {},
   "cell_type": "markdown",
   "metadata": {},
   "source": [
    "### Single connection"
   ]
  },
  {
   "cell_type": "code",
   "execution_count": null,
   "metadata": {},
   "outputs": [],
   "source": [
    "thing_client = boto3.client('iot')"
   ]
  },
  {
   "cell_type": "code",
   "execution_count": null,
   "metadata": {},
   "outputs": [
    {
     "data": {
      "text/plain": [
       "{'ResponseMetadata': {'RequestId': '59e96aa7-8aa6-4c9a-9dc8-e2db1630725e',\n",
       "  'HTTPStatusCode': 200,\n",
       "  'HTTPHeaders': {'date': 'Sun, 26 Mar 2023 20:25:01 GMT',\n",
       "   'content-type': 'application/json',\n",
       "   'content-length': '497',\n",
       "   'connection': 'keep-alive',\n",
       "   'x-amzn-requestid': '59e96aa7-8aa6-4c9a-9dc8-e2db1630725e'},\n",
       "  'RetryAttempts': 0},\n",
       " 'things': [{'thingName': 'auto-iot-thing_0000',\n",
       "   'thingArn': 'arn:aws:iot:eu-central-1:524422720739:thing/auto-iot-thing_0000',\n",
       "   'attributes': {},\n",
       "   'version': 1},\n",
       "  {'thingName': 'auto-iot-thing_0001',\n",
       "   'thingArn': 'arn:aws:iot:eu-central-1:524422720739:thing/auto-iot-thing_0001',\n",
       "   'attributes': {},\n",
       "   'version': 1},\n",
       "  {'thingName': 'Test_Thing',\n",
       "   'thingArn': 'arn:aws:iot:eu-central-1:524422720739:thing/Test_Thing',\n",
       "   'attributes': {},\n",
       "   'version': 1}]}"
      ]
     },
     "metadata": {},
     "output_type": "display_data"
    }
   ],
   "source": [
    "thing_client.list_things()"
   ]
  }
 ],
 "metadata": {
  "kernelspec": {
   "display_name": "sci-vis",
   "language": "python",
   "name": "python3"
  },
  "language_info": {
   "codemirror_mode": {
    "name": "ipython",
    "version": 3
   },
   "file_extension": ".py",
   "mimetype": "text/x-python",
   "name": "python",
   "nbconvert_exporter": "python",
   "pygments_lexer": "ipython3",
   "version": "3.10.4"
  },
  "orig_nbformat": 4,
  "vscode": {
   "interpreter": {
    "hash": "2936d6ad3114095a70e3ac0f7001e967dad9297ba5e32033e08a436e445df64e"
   }
  }
 },
 "nbformat": 4,
 "nbformat_minor": 2
}
